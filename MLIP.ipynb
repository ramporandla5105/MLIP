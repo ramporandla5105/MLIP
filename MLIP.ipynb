{
  "nbformat": 4,
  "nbformat_minor": 0,
  "metadata": {
    "colab": {
      "name": "MLIP.ipynb",
      "provenance": [],
      "collapsed_sections": [],
      "toc_visible": true
    },
    "kernelspec": {
      "name": "python3",
      "display_name": "Python 3"
    },
    "language_info": {
      "name": "python"
    },
    "widgets": {
      "application/vnd.jupyter.widget-state+json": {
        "f53eaeb3a4de409b96109e6970cffc16": {
          "model_module": "@jupyter-widgets/controls",
          "model_name": "HBoxModel",
          "model_module_version": "1.5.0",
          "state": {
            "_view_name": "HBoxView",
            "_dom_classes": [],
            "_model_name": "HBoxModel",
            "_view_module": "@jupyter-widgets/controls",
            "_model_module_version": "1.5.0",
            "_view_count": null,
            "_view_module_version": "1.5.0",
            "box_style": "",
            "layout": "IPY_MODEL_4f5145abe0594f9b93ffc1342de016cb",
            "_model_module": "@jupyter-widgets/controls",
            "children": [
              "IPY_MODEL_155deb823d9c4bb49c8b9d512c8b8da8",
              "IPY_MODEL_26f393e868704868a47722bb83a34955"
            ]
          }
        },
        "4f5145abe0594f9b93ffc1342de016cb": {
          "model_module": "@jupyter-widgets/base",
          "model_name": "LayoutModel",
          "model_module_version": "1.2.0",
          "state": {
            "_view_name": "LayoutView",
            "grid_template_rows": null,
            "right": null,
            "justify_content": null,
            "_view_module": "@jupyter-widgets/base",
            "overflow": null,
            "_model_module_version": "1.2.0",
            "_view_count": null,
            "flex_flow": null,
            "width": null,
            "min_width": null,
            "border": null,
            "align_items": null,
            "bottom": null,
            "_model_module": "@jupyter-widgets/base",
            "top": null,
            "grid_column": null,
            "overflow_y": null,
            "overflow_x": null,
            "grid_auto_flow": null,
            "grid_area": null,
            "grid_template_columns": null,
            "flex": null,
            "_model_name": "LayoutModel",
            "justify_items": null,
            "grid_row": null,
            "max_height": null,
            "align_content": null,
            "visibility": null,
            "align_self": null,
            "height": null,
            "min_height": null,
            "padding": null,
            "grid_auto_rows": null,
            "grid_gap": null,
            "max_width": null,
            "order": null,
            "_view_module_version": "1.2.0",
            "grid_template_areas": null,
            "object_position": null,
            "object_fit": null,
            "grid_auto_columns": null,
            "margin": null,
            "display": null,
            "left": null
          }
        },
        "155deb823d9c4bb49c8b9d512c8b8da8": {
          "model_module": "@jupyter-widgets/controls",
          "model_name": "FloatProgressModel",
          "model_module_version": "1.5.0",
          "state": {
            "_view_name": "ProgressView",
            "style": "IPY_MODEL_7c844fc0e06e453f99f69309f9e67c7c",
            "_dom_classes": [],
            "description": "",
            "_model_name": "FloatProgressModel",
            "bar_style": "success",
            "max": 26421880,
            "_view_module": "@jupyter-widgets/controls",
            "_model_module_version": "1.5.0",
            "value": 26421880,
            "_view_count": null,
            "_view_module_version": "1.5.0",
            "orientation": "horizontal",
            "min": 0,
            "description_tooltip": null,
            "_model_module": "@jupyter-widgets/controls",
            "layout": "IPY_MODEL_1f5a5eaff2884033893adab50005c9e1"
          }
        },
        "26f393e868704868a47722bb83a34955": {
          "model_module": "@jupyter-widgets/controls",
          "model_name": "HTMLModel",
          "model_module_version": "1.5.0",
          "state": {
            "_view_name": "HTMLView",
            "style": "IPY_MODEL_4d47186dba3747d5a125941cf8ca40ca",
            "_dom_classes": [],
            "description": "",
            "_model_name": "HTMLModel",
            "placeholder": "​",
            "_view_module": "@jupyter-widgets/controls",
            "_model_module_version": "1.5.0",
            "value": " 26422272/? [00:04&lt;00:00, 5854311.78it/s]",
            "_view_count": null,
            "_view_module_version": "1.5.0",
            "description_tooltip": null,
            "_model_module": "@jupyter-widgets/controls",
            "layout": "IPY_MODEL_5c8250612c60400aaad3646d72c00e3d"
          }
        },
        "7c844fc0e06e453f99f69309f9e67c7c": {
          "model_module": "@jupyter-widgets/controls",
          "model_name": "ProgressStyleModel",
          "model_module_version": "1.5.0",
          "state": {
            "_view_name": "StyleView",
            "_model_name": "ProgressStyleModel",
            "description_width": "initial",
            "_view_module": "@jupyter-widgets/base",
            "_model_module_version": "1.5.0",
            "_view_count": null,
            "_view_module_version": "1.2.0",
            "bar_color": null,
            "_model_module": "@jupyter-widgets/controls"
          }
        },
        "1f5a5eaff2884033893adab50005c9e1": {
          "model_module": "@jupyter-widgets/base",
          "model_name": "LayoutModel",
          "model_module_version": "1.2.0",
          "state": {
            "_view_name": "LayoutView",
            "grid_template_rows": null,
            "right": null,
            "justify_content": null,
            "_view_module": "@jupyter-widgets/base",
            "overflow": null,
            "_model_module_version": "1.2.0",
            "_view_count": null,
            "flex_flow": null,
            "width": null,
            "min_width": null,
            "border": null,
            "align_items": null,
            "bottom": null,
            "_model_module": "@jupyter-widgets/base",
            "top": null,
            "grid_column": null,
            "overflow_y": null,
            "overflow_x": null,
            "grid_auto_flow": null,
            "grid_area": null,
            "grid_template_columns": null,
            "flex": null,
            "_model_name": "LayoutModel",
            "justify_items": null,
            "grid_row": null,
            "max_height": null,
            "align_content": null,
            "visibility": null,
            "align_self": null,
            "height": null,
            "min_height": null,
            "padding": null,
            "grid_auto_rows": null,
            "grid_gap": null,
            "max_width": null,
            "order": null,
            "_view_module_version": "1.2.0",
            "grid_template_areas": null,
            "object_position": null,
            "object_fit": null,
            "grid_auto_columns": null,
            "margin": null,
            "display": null,
            "left": null
          }
        },
        "4d47186dba3747d5a125941cf8ca40ca": {
          "model_module": "@jupyter-widgets/controls",
          "model_name": "DescriptionStyleModel",
          "model_module_version": "1.5.0",
          "state": {
            "_view_name": "StyleView",
            "_model_name": "DescriptionStyleModel",
            "description_width": "",
            "_view_module": "@jupyter-widgets/base",
            "_model_module_version": "1.5.0",
            "_view_count": null,
            "_view_module_version": "1.2.0",
            "_model_module": "@jupyter-widgets/controls"
          }
        },
        "5c8250612c60400aaad3646d72c00e3d": {
          "model_module": "@jupyter-widgets/base",
          "model_name": "LayoutModel",
          "model_module_version": "1.2.0",
          "state": {
            "_view_name": "LayoutView",
            "grid_template_rows": null,
            "right": null,
            "justify_content": null,
            "_view_module": "@jupyter-widgets/base",
            "overflow": null,
            "_model_module_version": "1.2.0",
            "_view_count": null,
            "flex_flow": null,
            "width": null,
            "min_width": null,
            "border": null,
            "align_items": null,
            "bottom": null,
            "_model_module": "@jupyter-widgets/base",
            "top": null,
            "grid_column": null,
            "overflow_y": null,
            "overflow_x": null,
            "grid_auto_flow": null,
            "grid_area": null,
            "grid_template_columns": null,
            "flex": null,
            "_model_name": "LayoutModel",
            "justify_items": null,
            "grid_row": null,
            "max_height": null,
            "align_content": null,
            "visibility": null,
            "align_self": null,
            "height": null,
            "min_height": null,
            "padding": null,
            "grid_auto_rows": null,
            "grid_gap": null,
            "max_width": null,
            "order": null,
            "_view_module_version": "1.2.0",
            "grid_template_areas": null,
            "object_position": null,
            "object_fit": null,
            "grid_auto_columns": null,
            "margin": null,
            "display": null,
            "left": null
          }
        },
        "5d3e5ab6404e40e58694b645ebfbc7ea": {
          "model_module": "@jupyter-widgets/controls",
          "model_name": "HBoxModel",
          "model_module_version": "1.5.0",
          "state": {
            "_view_name": "HBoxView",
            "_dom_classes": [],
            "_model_name": "HBoxModel",
            "_view_module": "@jupyter-widgets/controls",
            "_model_module_version": "1.5.0",
            "_view_count": null,
            "_view_module_version": "1.5.0",
            "box_style": "",
            "layout": "IPY_MODEL_1cd9075af4a64cb2b0d19a028aa5bb93",
            "_model_module": "@jupyter-widgets/controls",
            "children": [
              "IPY_MODEL_5b5c399422424ec68a59d2e807dea4c7",
              "IPY_MODEL_7184a7a306714e1d93113b01437495e9"
            ]
          }
        },
        "1cd9075af4a64cb2b0d19a028aa5bb93": {
          "model_module": "@jupyter-widgets/base",
          "model_name": "LayoutModel",
          "model_module_version": "1.2.0",
          "state": {
            "_view_name": "LayoutView",
            "grid_template_rows": null,
            "right": null,
            "justify_content": null,
            "_view_module": "@jupyter-widgets/base",
            "overflow": null,
            "_model_module_version": "1.2.0",
            "_view_count": null,
            "flex_flow": null,
            "width": null,
            "min_width": null,
            "border": null,
            "align_items": null,
            "bottom": null,
            "_model_module": "@jupyter-widgets/base",
            "top": null,
            "grid_column": null,
            "overflow_y": null,
            "overflow_x": null,
            "grid_auto_flow": null,
            "grid_area": null,
            "grid_template_columns": null,
            "flex": null,
            "_model_name": "LayoutModel",
            "justify_items": null,
            "grid_row": null,
            "max_height": null,
            "align_content": null,
            "visibility": null,
            "align_self": null,
            "height": null,
            "min_height": null,
            "padding": null,
            "grid_auto_rows": null,
            "grid_gap": null,
            "max_width": null,
            "order": null,
            "_view_module_version": "1.2.0",
            "grid_template_areas": null,
            "object_position": null,
            "object_fit": null,
            "grid_auto_columns": null,
            "margin": null,
            "display": null,
            "left": null
          }
        },
        "5b5c399422424ec68a59d2e807dea4c7": {
          "model_module": "@jupyter-widgets/controls",
          "model_name": "FloatProgressModel",
          "model_module_version": "1.5.0",
          "state": {
            "_view_name": "ProgressView",
            "style": "IPY_MODEL_b0b1b2e44c39484ca2699a96724a796c",
            "_dom_classes": [],
            "description": "",
            "_model_name": "FloatProgressModel",
            "bar_style": "success",
            "max": 29515,
            "_view_module": "@jupyter-widgets/controls",
            "_model_module_version": "1.5.0",
            "value": 29515,
            "_view_count": null,
            "_view_module_version": "1.5.0",
            "orientation": "horizontal",
            "min": 0,
            "description_tooltip": null,
            "_model_module": "@jupyter-widgets/controls",
            "layout": "IPY_MODEL_e5511b6dc79d4789a81afc3a48c363e5"
          }
        },
        "7184a7a306714e1d93113b01437495e9": {
          "model_module": "@jupyter-widgets/controls",
          "model_name": "HTMLModel",
          "model_module_version": "1.5.0",
          "state": {
            "_view_name": "HTMLView",
            "style": "IPY_MODEL_8b3e316cf341485eb8ae15836e7af5b6",
            "_dom_classes": [],
            "description": "",
            "_model_name": "HTMLModel",
            "placeholder": "​",
            "_view_module": "@jupyter-widgets/controls",
            "_model_module_version": "1.5.0",
            "value": " 29696/? [00:00&lt;00:00, 35911.36it/s]",
            "_view_count": null,
            "_view_module_version": "1.5.0",
            "description_tooltip": null,
            "_model_module": "@jupyter-widgets/controls",
            "layout": "IPY_MODEL_37f9794b88ad4cf5a28034359008e89e"
          }
        },
        "b0b1b2e44c39484ca2699a96724a796c": {
          "model_module": "@jupyter-widgets/controls",
          "model_name": "ProgressStyleModel",
          "model_module_version": "1.5.0",
          "state": {
            "_view_name": "StyleView",
            "_model_name": "ProgressStyleModel",
            "description_width": "initial",
            "_view_module": "@jupyter-widgets/base",
            "_model_module_version": "1.5.0",
            "_view_count": null,
            "_view_module_version": "1.2.0",
            "bar_color": null,
            "_model_module": "@jupyter-widgets/controls"
          }
        },
        "e5511b6dc79d4789a81afc3a48c363e5": {
          "model_module": "@jupyter-widgets/base",
          "model_name": "LayoutModel",
          "model_module_version": "1.2.0",
          "state": {
            "_view_name": "LayoutView",
            "grid_template_rows": null,
            "right": null,
            "justify_content": null,
            "_view_module": "@jupyter-widgets/base",
            "overflow": null,
            "_model_module_version": "1.2.0",
            "_view_count": null,
            "flex_flow": null,
            "width": null,
            "min_width": null,
            "border": null,
            "align_items": null,
            "bottom": null,
            "_model_module": "@jupyter-widgets/base",
            "top": null,
            "grid_column": null,
            "overflow_y": null,
            "overflow_x": null,
            "grid_auto_flow": null,
            "grid_area": null,
            "grid_template_columns": null,
            "flex": null,
            "_model_name": "LayoutModel",
            "justify_items": null,
            "grid_row": null,
            "max_height": null,
            "align_content": null,
            "visibility": null,
            "align_self": null,
            "height": null,
            "min_height": null,
            "padding": null,
            "grid_auto_rows": null,
            "grid_gap": null,
            "max_width": null,
            "order": null,
            "_view_module_version": "1.2.0",
            "grid_template_areas": null,
            "object_position": null,
            "object_fit": null,
            "grid_auto_columns": null,
            "margin": null,
            "display": null,
            "left": null
          }
        },
        "8b3e316cf341485eb8ae15836e7af5b6": {
          "model_module": "@jupyter-widgets/controls",
          "model_name": "DescriptionStyleModel",
          "model_module_version": "1.5.0",
          "state": {
            "_view_name": "StyleView",
            "_model_name": "DescriptionStyleModel",
            "description_width": "",
            "_view_module": "@jupyter-widgets/base",
            "_model_module_version": "1.5.0",
            "_view_count": null,
            "_view_module_version": "1.2.0",
            "_model_module": "@jupyter-widgets/controls"
          }
        },
        "37f9794b88ad4cf5a28034359008e89e": {
          "model_module": "@jupyter-widgets/base",
          "model_name": "LayoutModel",
          "model_module_version": "1.2.0",
          "state": {
            "_view_name": "LayoutView",
            "grid_template_rows": null,
            "right": null,
            "justify_content": null,
            "_view_module": "@jupyter-widgets/base",
            "overflow": null,
            "_model_module_version": "1.2.0",
            "_view_count": null,
            "flex_flow": null,
            "width": null,
            "min_width": null,
            "border": null,
            "align_items": null,
            "bottom": null,
            "_model_module": "@jupyter-widgets/base",
            "top": null,
            "grid_column": null,
            "overflow_y": null,
            "overflow_x": null,
            "grid_auto_flow": null,
            "grid_area": null,
            "grid_template_columns": null,
            "flex": null,
            "_model_name": "LayoutModel",
            "justify_items": null,
            "grid_row": null,
            "max_height": null,
            "align_content": null,
            "visibility": null,
            "align_self": null,
            "height": null,
            "min_height": null,
            "padding": null,
            "grid_auto_rows": null,
            "grid_gap": null,
            "max_width": null,
            "order": null,
            "_view_module_version": "1.2.0",
            "grid_template_areas": null,
            "object_position": null,
            "object_fit": null,
            "grid_auto_columns": null,
            "margin": null,
            "display": null,
            "left": null
          }
        },
        "9d1f1f925dea4954ba7980c7a1de89f7": {
          "model_module": "@jupyter-widgets/controls",
          "model_name": "HBoxModel",
          "model_module_version": "1.5.0",
          "state": {
            "_view_name": "HBoxView",
            "_dom_classes": [],
            "_model_name": "HBoxModel",
            "_view_module": "@jupyter-widgets/controls",
            "_model_module_version": "1.5.0",
            "_view_count": null,
            "_view_module_version": "1.5.0",
            "box_style": "",
            "layout": "IPY_MODEL_9201790077294fba829f9f0a7c50f0ed",
            "_model_module": "@jupyter-widgets/controls",
            "children": [
              "IPY_MODEL_95e645e0d82541ad8f35aa5ae31ab2cc",
              "IPY_MODEL_543af778f317420c86aa06d7c42876cd"
            ]
          }
        },
        "9201790077294fba829f9f0a7c50f0ed": {
          "model_module": "@jupyter-widgets/base",
          "model_name": "LayoutModel",
          "model_module_version": "1.2.0",
          "state": {
            "_view_name": "LayoutView",
            "grid_template_rows": null,
            "right": null,
            "justify_content": null,
            "_view_module": "@jupyter-widgets/base",
            "overflow": null,
            "_model_module_version": "1.2.0",
            "_view_count": null,
            "flex_flow": null,
            "width": null,
            "min_width": null,
            "border": null,
            "align_items": null,
            "bottom": null,
            "_model_module": "@jupyter-widgets/base",
            "top": null,
            "grid_column": null,
            "overflow_y": null,
            "overflow_x": null,
            "grid_auto_flow": null,
            "grid_area": null,
            "grid_template_columns": null,
            "flex": null,
            "_model_name": "LayoutModel",
            "justify_items": null,
            "grid_row": null,
            "max_height": null,
            "align_content": null,
            "visibility": null,
            "align_self": null,
            "height": null,
            "min_height": null,
            "padding": null,
            "grid_auto_rows": null,
            "grid_gap": null,
            "max_width": null,
            "order": null,
            "_view_module_version": "1.2.0",
            "grid_template_areas": null,
            "object_position": null,
            "object_fit": null,
            "grid_auto_columns": null,
            "margin": null,
            "display": null,
            "left": null
          }
        },
        "95e645e0d82541ad8f35aa5ae31ab2cc": {
          "model_module": "@jupyter-widgets/controls",
          "model_name": "FloatProgressModel",
          "model_module_version": "1.5.0",
          "state": {
            "_view_name": "ProgressView",
            "style": "IPY_MODEL_806c5a0015644813998136187bbf5633",
            "_dom_classes": [],
            "description": "",
            "_model_name": "FloatProgressModel",
            "bar_style": "success",
            "max": 4422102,
            "_view_module": "@jupyter-widgets/controls",
            "_model_module_version": "1.5.0",
            "value": 4422102,
            "_view_count": null,
            "_view_module_version": "1.5.0",
            "orientation": "horizontal",
            "min": 0,
            "description_tooltip": null,
            "_model_module": "@jupyter-widgets/controls",
            "layout": "IPY_MODEL_19b0ac28014b4a74ac9aea129c1d4560"
          }
        },
        "543af778f317420c86aa06d7c42876cd": {
          "model_module": "@jupyter-widgets/controls",
          "model_name": "HTMLModel",
          "model_module_version": "1.5.0",
          "state": {
            "_view_name": "HTMLView",
            "style": "IPY_MODEL_0a275bb389c649cdb28c3895912385bf",
            "_dom_classes": [],
            "description": "",
            "_model_name": "HTMLModel",
            "placeholder": "​",
            "_view_module": "@jupyter-widgets/controls",
            "_model_module_version": "1.5.0",
            "value": " 4422656/? [00:01&lt;00:00, 3676728.65it/s]",
            "_view_count": null,
            "_view_module_version": "1.5.0",
            "description_tooltip": null,
            "_model_module": "@jupyter-widgets/controls",
            "layout": "IPY_MODEL_42d7a6dbfd26477ca5fe73deee2a7fea"
          }
        },
        "806c5a0015644813998136187bbf5633": {
          "model_module": "@jupyter-widgets/controls",
          "model_name": "ProgressStyleModel",
          "model_module_version": "1.5.0",
          "state": {
            "_view_name": "StyleView",
            "_model_name": "ProgressStyleModel",
            "description_width": "initial",
            "_view_module": "@jupyter-widgets/base",
            "_model_module_version": "1.5.0",
            "_view_count": null,
            "_view_module_version": "1.2.0",
            "bar_color": null,
            "_model_module": "@jupyter-widgets/controls"
          }
        },
        "19b0ac28014b4a74ac9aea129c1d4560": {
          "model_module": "@jupyter-widgets/base",
          "model_name": "LayoutModel",
          "model_module_version": "1.2.0",
          "state": {
            "_view_name": "LayoutView",
            "grid_template_rows": null,
            "right": null,
            "justify_content": null,
            "_view_module": "@jupyter-widgets/base",
            "overflow": null,
            "_model_module_version": "1.2.0",
            "_view_count": null,
            "flex_flow": null,
            "width": null,
            "min_width": null,
            "border": null,
            "align_items": null,
            "bottom": null,
            "_model_module": "@jupyter-widgets/base",
            "top": null,
            "grid_column": null,
            "overflow_y": null,
            "overflow_x": null,
            "grid_auto_flow": null,
            "grid_area": null,
            "grid_template_columns": null,
            "flex": null,
            "_model_name": "LayoutModel",
            "justify_items": null,
            "grid_row": null,
            "max_height": null,
            "align_content": null,
            "visibility": null,
            "align_self": null,
            "height": null,
            "min_height": null,
            "padding": null,
            "grid_auto_rows": null,
            "grid_gap": null,
            "max_width": null,
            "order": null,
            "_view_module_version": "1.2.0",
            "grid_template_areas": null,
            "object_position": null,
            "object_fit": null,
            "grid_auto_columns": null,
            "margin": null,
            "display": null,
            "left": null
          }
        },
        "0a275bb389c649cdb28c3895912385bf": {
          "model_module": "@jupyter-widgets/controls",
          "model_name": "DescriptionStyleModel",
          "model_module_version": "1.5.0",
          "state": {
            "_view_name": "StyleView",
            "_model_name": "DescriptionStyleModel",
            "description_width": "",
            "_view_module": "@jupyter-widgets/base",
            "_model_module_version": "1.5.0",
            "_view_count": null,
            "_view_module_version": "1.2.0",
            "_model_module": "@jupyter-widgets/controls"
          }
        },
        "42d7a6dbfd26477ca5fe73deee2a7fea": {
          "model_module": "@jupyter-widgets/base",
          "model_name": "LayoutModel",
          "model_module_version": "1.2.0",
          "state": {
            "_view_name": "LayoutView",
            "grid_template_rows": null,
            "right": null,
            "justify_content": null,
            "_view_module": "@jupyter-widgets/base",
            "overflow": null,
            "_model_module_version": "1.2.0",
            "_view_count": null,
            "flex_flow": null,
            "width": null,
            "min_width": null,
            "border": null,
            "align_items": null,
            "bottom": null,
            "_model_module": "@jupyter-widgets/base",
            "top": null,
            "grid_column": null,
            "overflow_y": null,
            "overflow_x": null,
            "grid_auto_flow": null,
            "grid_area": null,
            "grid_template_columns": null,
            "flex": null,
            "_model_name": "LayoutModel",
            "justify_items": null,
            "grid_row": null,
            "max_height": null,
            "align_content": null,
            "visibility": null,
            "align_self": null,
            "height": null,
            "min_height": null,
            "padding": null,
            "grid_auto_rows": null,
            "grid_gap": null,
            "max_width": null,
            "order": null,
            "_view_module_version": "1.2.0",
            "grid_template_areas": null,
            "object_position": null,
            "object_fit": null,
            "grid_auto_columns": null,
            "margin": null,
            "display": null,
            "left": null
          }
        },
        "93b876e4f15e41d7ada1a1506be186a9": {
          "model_module": "@jupyter-widgets/controls",
          "model_name": "HBoxModel",
          "model_module_version": "1.5.0",
          "state": {
            "_view_name": "HBoxView",
            "_dom_classes": [],
            "_model_name": "HBoxModel",
            "_view_module": "@jupyter-widgets/controls",
            "_model_module_version": "1.5.0",
            "_view_count": null,
            "_view_module_version": "1.5.0",
            "box_style": "",
            "layout": "IPY_MODEL_abf07e6b3a744620b0f34e55cc274ff2",
            "_model_module": "@jupyter-widgets/controls",
            "children": [
              "IPY_MODEL_a51194a498124da2a6ca75d7fccb8ef2",
              "IPY_MODEL_b4eb6bc946c744b2b85727b6f5a7b95c"
            ]
          }
        },
        "abf07e6b3a744620b0f34e55cc274ff2": {
          "model_module": "@jupyter-widgets/base",
          "model_name": "LayoutModel",
          "model_module_version": "1.2.0",
          "state": {
            "_view_name": "LayoutView",
            "grid_template_rows": null,
            "right": null,
            "justify_content": null,
            "_view_module": "@jupyter-widgets/base",
            "overflow": null,
            "_model_module_version": "1.2.0",
            "_view_count": null,
            "flex_flow": null,
            "width": null,
            "min_width": null,
            "border": null,
            "align_items": null,
            "bottom": null,
            "_model_module": "@jupyter-widgets/base",
            "top": null,
            "grid_column": null,
            "overflow_y": null,
            "overflow_x": null,
            "grid_auto_flow": null,
            "grid_area": null,
            "grid_template_columns": null,
            "flex": null,
            "_model_name": "LayoutModel",
            "justify_items": null,
            "grid_row": null,
            "max_height": null,
            "align_content": null,
            "visibility": null,
            "align_self": null,
            "height": null,
            "min_height": null,
            "padding": null,
            "grid_auto_rows": null,
            "grid_gap": null,
            "max_width": null,
            "order": null,
            "_view_module_version": "1.2.0",
            "grid_template_areas": null,
            "object_position": null,
            "object_fit": null,
            "grid_auto_columns": null,
            "margin": null,
            "display": null,
            "left": null
          }
        },
        "a51194a498124da2a6ca75d7fccb8ef2": {
          "model_module": "@jupyter-widgets/controls",
          "model_name": "FloatProgressModel",
          "model_module_version": "1.5.0",
          "state": {
            "_view_name": "ProgressView",
            "style": "IPY_MODEL_3a34de22363d45f18dae327a49c74428",
            "_dom_classes": [],
            "description": "",
            "_model_name": "FloatProgressModel",
            "bar_style": "success",
            "max": 5148,
            "_view_module": "@jupyter-widgets/controls",
            "_model_module_version": "1.5.0",
            "value": 5148,
            "_view_count": null,
            "_view_module_version": "1.5.0",
            "orientation": "horizontal",
            "min": 0,
            "description_tooltip": null,
            "_model_module": "@jupyter-widgets/controls",
            "layout": "IPY_MODEL_39fba85bebe64ebbb8e3a39b60534cd0"
          }
        },
        "b4eb6bc946c744b2b85727b6f5a7b95c": {
          "model_module": "@jupyter-widgets/controls",
          "model_name": "HTMLModel",
          "model_module_version": "1.5.0",
          "state": {
            "_view_name": "HTMLView",
            "style": "IPY_MODEL_b9f14c454872470db62a0a65c159d51a",
            "_dom_classes": [],
            "description": "",
            "_model_name": "HTMLModel",
            "placeholder": "​",
            "_view_module": "@jupyter-widgets/controls",
            "_model_module_version": "1.5.0",
            "value": " 6144/? [00:00&lt;00:00, 17289.74it/s]",
            "_view_count": null,
            "_view_module_version": "1.5.0",
            "description_tooltip": null,
            "_model_module": "@jupyter-widgets/controls",
            "layout": "IPY_MODEL_6829153168d3499c985e35d63b9bbc6e"
          }
        },
        "3a34de22363d45f18dae327a49c74428": {
          "model_module": "@jupyter-widgets/controls",
          "model_name": "ProgressStyleModel",
          "model_module_version": "1.5.0",
          "state": {
            "_view_name": "StyleView",
            "_model_name": "ProgressStyleModel",
            "description_width": "initial",
            "_view_module": "@jupyter-widgets/base",
            "_model_module_version": "1.5.0",
            "_view_count": null,
            "_view_module_version": "1.2.0",
            "bar_color": null,
            "_model_module": "@jupyter-widgets/controls"
          }
        },
        "39fba85bebe64ebbb8e3a39b60534cd0": {
          "model_module": "@jupyter-widgets/base",
          "model_name": "LayoutModel",
          "model_module_version": "1.2.0",
          "state": {
            "_view_name": "LayoutView",
            "grid_template_rows": null,
            "right": null,
            "justify_content": null,
            "_view_module": "@jupyter-widgets/base",
            "overflow": null,
            "_model_module_version": "1.2.0",
            "_view_count": null,
            "flex_flow": null,
            "width": null,
            "min_width": null,
            "border": null,
            "align_items": null,
            "bottom": null,
            "_model_module": "@jupyter-widgets/base",
            "top": null,
            "grid_column": null,
            "overflow_y": null,
            "overflow_x": null,
            "grid_auto_flow": null,
            "grid_area": null,
            "grid_template_columns": null,
            "flex": null,
            "_model_name": "LayoutModel",
            "justify_items": null,
            "grid_row": null,
            "max_height": null,
            "align_content": null,
            "visibility": null,
            "align_self": null,
            "height": null,
            "min_height": null,
            "padding": null,
            "grid_auto_rows": null,
            "grid_gap": null,
            "max_width": null,
            "order": null,
            "_view_module_version": "1.2.0",
            "grid_template_areas": null,
            "object_position": null,
            "object_fit": null,
            "grid_auto_columns": null,
            "margin": null,
            "display": null,
            "left": null
          }
        },
        "b9f14c454872470db62a0a65c159d51a": {
          "model_module": "@jupyter-widgets/controls",
          "model_name": "DescriptionStyleModel",
          "model_module_version": "1.5.0",
          "state": {
            "_view_name": "StyleView",
            "_model_name": "DescriptionStyleModel",
            "description_width": "",
            "_view_module": "@jupyter-widgets/base",
            "_model_module_version": "1.5.0",
            "_view_count": null,
            "_view_module_version": "1.2.0",
            "_model_module": "@jupyter-widgets/controls"
          }
        },
        "6829153168d3499c985e35d63b9bbc6e": {
          "model_module": "@jupyter-widgets/base",
          "model_name": "LayoutModel",
          "model_module_version": "1.2.0",
          "state": {
            "_view_name": "LayoutView",
            "grid_template_rows": null,
            "right": null,
            "justify_content": null,
            "_view_module": "@jupyter-widgets/base",
            "overflow": null,
            "_model_module_version": "1.2.0",
            "_view_count": null,
            "flex_flow": null,
            "width": null,
            "min_width": null,
            "border": null,
            "align_items": null,
            "bottom": null,
            "_model_module": "@jupyter-widgets/base",
            "top": null,
            "grid_column": null,
            "overflow_y": null,
            "overflow_x": null,
            "grid_auto_flow": null,
            "grid_area": null,
            "grid_template_columns": null,
            "flex": null,
            "_model_name": "LayoutModel",
            "justify_items": null,
            "grid_row": null,
            "max_height": null,
            "align_content": null,
            "visibility": null,
            "align_self": null,
            "height": null,
            "min_height": null,
            "padding": null,
            "grid_auto_rows": null,
            "grid_gap": null,
            "max_width": null,
            "order": null,
            "_view_module_version": "1.2.0",
            "grid_template_areas": null,
            "object_position": null,
            "object_fit": null,
            "grid_auto_columns": null,
            "margin": null,
            "display": null,
            "left": null
          }
        }
      }
    }
  },
  "cells": [
    {
      "cell_type": "markdown",
      "metadata": {
        "id": "ft8qurLAsc8l"
      },
      "source": [
        "**QUESTION 1**"
      ]
    },
    {
      "cell_type": "markdown",
      "metadata": {
        "id": "6u7wPcasslZN"
      },
      "source": [
        "**Part 1**"
      ]
    },
    {
      "cell_type": "code",
      "metadata": {
        "id": "PuwgzkZWXPZc"
      },
      "source": [
        "### importing all the necessary libraries here #### \n",
        "from google.colab import drive\n",
        "import numpy as np\n",
        "import pandas as pd\n",
        "import matplotlib.pyplot as plt\n",
        " \n"
      ],
      "execution_count": null,
      "outputs": []
    },
    {
      "cell_type": "code",
      "metadata": {
        "colab": {
          "base_uri": "https://localhost:8080/"
        },
        "id": "ft2GGBpPXVF5",
        "outputId": "51e9e8c2-ced6-4bde-ac77-5c17ba153f30"
      },
      "source": [
        "### Converting given excel file into numpy array###\n",
        "df = pd.read_excel('DATASET.xlsx')\n",
        "K=np.array(df)"
      ],
      "execution_count": null,
      "outputs": [
        {
          "output_type": "stream",
          "text": [
            "Drive already mounted at /content/drive; to attempt to forcibly remount, call drive.mount(\"/content/drive\", force_remount=True).\n"
          ],
          "name": "stdout"
        }
      ]
    },
    {
      "cell_type": "code",
      "metadata": {
        "id": "YDVmKuISfuaG"
      },
      "source": [
        "### Computing the Mean and scatter matrix and de-mean all the data points i.e subtract the mean from all the data points.###\n",
        "\n",
        "L=K[:,0]\n",
        "D=K[:,1:K.shape[1]]\n",
        "a,b=D.shape\n",
        "M=np.zeros((b,1));\n",
        "SM = np.zeros((b,b));\n",
        "for i in range (0,b):\n",
        "  M[i]=np.mean(D[:,i])\n",
        "for i in range(0,a):\n",
        "  d=D[i,:].reshape(b,1)\n",
        "  d=d-M\n",
        "  SM+=np.dot(d,d.T)"
      ],
      "execution_count": null,
      "outputs": []
    },
    {
      "cell_type": "code",
      "metadata": {
        "id": "S6JK3lgmGN_c"
      },
      "source": [
        "### finding the eigen values and eigen vectors of scatter matrix ###\n",
        "\n",
        "A,B=np.linalg.eig(SM)\n",
        "eig_pairs = [(np.abs(A[i]), B[:,i]) for i in range(len(A))]\n"
      ],
      "execution_count": null,
      "outputs": []
    },
    {
      "cell_type": "code",
      "metadata": {
        "id": "OwQkErw2UP3u"
      },
      "source": [
        "### finding the top 50 eigen values and corresponding eigen vectors ###\n",
        "\n",
        "# Sort the (eigenvalue, eigenvector) tuples from high to low\n",
        "eig_pairs.sort(key=lambda x: x[0], reverse=True)\n",
        "Evec=[];\n",
        "Eval=[];\n",
        "\n",
        "for i in eig_pairs[0:50]:\n",
        "    Eval.append(i[0])\n",
        "    Evec.append(i[1])\n",
        "Evec=np.array(Evec)\n",
        "Eval=np.array(Eval)\n",
        "\n",
        "\n"
      ],
      "execution_count": null,
      "outputs": []
    },
    {
      "cell_type": "code",
      "metadata": {
        "id": "TjggdS1p20_p"
      },
      "source": [
        "### project all the data points on these 50 eigen vectors ###\n",
        "fdata=np.dot(D,Evec.T)\n",
        "\n",
        "### Now after projecting these data points on top 50 eigen vectors we are asked to find the error ### \n",
        "u=np.dot(fdata,Evec)\n",
        "k=[];\n",
        "for i in range(0,a):\n",
        "  d=u[i,:].reshape(b,1)\n",
        "  d=d+M\n",
        "  k.append(d.reshape(b,))\n",
        "\n",
        "### finding error \n",
        "j=np.linalg.norm(D-k)"
      ],
      "execution_count": null,
      "outputs": []
    },
    {
      "cell_type": "code",
      "metadata": {
        "id": "8VJzOEMjxH67"
      },
      "source": [
        "### Creating functions to call for different dimensions\n",
        "\n",
        "def PCA (no_of_dim):\n",
        "  c=no_of_dim;\n",
        "  Evec=[];\n",
        "  Eval=[];\n",
        "\n",
        "  for i in eig_pairs[0:c]:\n",
        "    Eval.append(i[0])\n",
        "    Evec.append(i[1])\n",
        "  Evec=np.array(Evec)\n",
        "  Eval=np.array(Eval)\n",
        "  fdata=np.dot(D,Evec.T)\n",
        "  u=np.dot(fdata,Evec)\n",
        "  k=[];\n",
        "  for i in range(0,a):\n",
        "    d=u[i,:].reshape(b,1)\n",
        "    d=d+M\n",
        "    k.append(d.reshape(b,))\n",
        "\n",
        "\n",
        "  ### finding error\n",
        "  j=np.linalg.norm(D-k) \n",
        "  return j\n",
        "  \n",
        "def Error (E,dim):\n",
        "  Evaln=[];\n",
        "  Evald=[];\n",
        "\n",
        "  for i in E[0:dim]:\n",
        "    Evaln.append(i[0])\n",
        "  for i in E[dim:b]:\n",
        "    Evald.append(i[0])\n",
        "  num=np.sum(Evaln)\n",
        "  den=np.sum(Evald)\n",
        "  acc=num/(den+num);\n",
        "  \n",
        "  return acc\n",
        "\n"
      ],
      "execution_count": null,
      "outputs": []
    },
    {
      "cell_type": "code",
      "metadata": {
        "colab": {
          "base_uri": "https://localhost:8080/",
          "height": 573
        },
        "id": "8PVtIuaFSAp3",
        "outputId": "fcbc5b4a-3906-4db0-b1b1-79bdfa11cb51"
      },
      "source": [
        "### Also plot the value of error with respect to different number of projected dimensions ### \n",
        "### i.e with respect to different principle components is shown below ###\n",
        "### Your Code stats here ###\n",
        "\n",
        "\n",
        "###    TO PLOT COST WRT PROJECTED DIMENSIONS \n",
        "### jx=[50,100,200,300,400,500,600,700,750,785];\n",
        "### jy=[PCA(50),PCA(100),PCA(200),PCA(300),PCA(400),PCA(500),PCA(600),PCA(700),PCA(750),PCA(785)];\n",
        "### plt.plot(jx,jy)\n",
        "### plt.xlabel('No of projected  dimensions')\n",
        "### plt.ylabel('Value of cost function ')\n",
        "### plt.title('Cost w.r.t no of projected dimensions')\n",
        "### plt.show()\n",
        "\n",
        "\n",
        "ax=[50,100,150,200,250,300,350,400,450,500,550,600,650,700,750,784]\n",
        "ay=[Error(eig_pairs,50),Error(eig_pairs,100),Error(eig_pairs,150),Error(eig_pairs,200),Error(eig_pairs,250),Error(eig_pairs,300),Error(eig_pairs,350),Error(eig_pairs,400),Error(eig_pairs,450),Error(eig_pairs,500),Error(eig_pairs,550),Error(eig_pairs,600),Error(eig_pairs,650),Error(eig_pairs,700),Error(eig_pairs,750),Error(eig_pairs,784)]\n",
        "plt.plot(ax,ay)\n",
        "plt.xlabel('No of projected  dimensions')\n",
        "plt.ylabel('Accuracy')\n",
        "plt.title('Accuracy w.r.t no of projected dimensions')\n",
        "plt.show()\n",
        "\n",
        "\n",
        "ax=[50,100,150,200,250,300,350,400,450,500,550,600,650,700,750,784]\n",
        "ay=[1-Error(eig_pairs,50),1-Error(eig_pairs,100),1-Error(eig_pairs,150),1-Error(eig_pairs,200),1-Error(eig_pairs,250),1-Error(eig_pairs,300),1-Error(eig_pairs,350),1-Error(eig_pairs,400),1-Error(eig_pairs,450),1-Error(eig_pairs,500),1-Error(eig_pairs,550),1-Error(eig_pairs,600),1-Error(eig_pairs,650),1-Error(eig_pairs,700),1-Error(eig_pairs,750),1-Error(eig_pairs,784)]\n",
        "plt.plot(ax,ay)\n",
        "plt.xlabel('No of projected  dimensions')\n",
        "plt.ylabel('Error')\n",
        "plt.title('Error w.r.t no of projected dimensions')\n",
        "plt.show()\n",
        "\n",
        "### Your code ends here ###"
      ],
      "execution_count": null,
      "outputs": [
        {
          "output_type": "display_data",
          "data": {
            "image/png": "[encoded data removed]",
            "text/plain": [
              "<Figure size 432x288 with 1 Axes>"
            ]
          },
          "metadata": {
            "tags": [],
            "needs_background": "light"
          }
        },
        {
          "output_type": "display_data",
          "data": {
            "image/png": "[encoded data removed]",
            "text/plain": [
              "<Figure size 432x288 with 1 Axes>"
            ]
          },
          "metadata": {
            "tags": [],
            "needs_background": "light"
          }
        }
      ]
    },
    {
      "cell_type": "markdown",
      "metadata": {
        "id": "RToLnVKDsqxu"
      },
      "source": [
        "**Part 2**"
      ]
    },
    {
      "cell_type": "code",
      "metadata": {
        "id": "41AsE9NRWkX-"
      },
      "source": [
        "### import all the necessary libraries here ####\n",
        "\n",
        "import keras\n",
        "from keras.models import Sequential\n",
        "from keras.layers import Dense\n",
        "from sklearn.metrics import  confusion_matrix\n",
        "\n"
      ],
      "execution_count": null,
      "outputs": []
    },
    {
      "cell_type": "code",
      "metadata": {
        "id": "de4qSc-omCIZ",
        "colab": {
          "base_uri": "https://localhost:8080/"
        },
        "outputId": "0e121815-f5f0-42f2-bf12-5046fc0cde32"
      },
      "source": [
        "### Read the dataset in part 1 with reduced dimensions ###\n",
        "\n",
        "\n",
        "La=np.zeros((L.shape[0],1))\n",
        "print(len(La))\n",
        "for i in range(0,L.shape[0]):\n",
        "  if L[i]==0:\n",
        "    La[i]=0;\n",
        "  elif L[i]==2:\n",
        "    La[i]=1;\n",
        "  elif L[i]==4:\n",
        "    La[i]=2;\n",
        "  elif L[i]==6:\n",
        "    La[i]=3;\n",
        "  elif L[i]==8:\n",
        "    La[i]=4;\n",
        "\n",
        "X_Train=fdata[0:int((a/2))]#50% data samples for training \n",
        "X_Test=fdata[int((a/2)):int((a/2))+int((3*a/10))]# 30% for testing\n",
        "X_Val=fdata[int((a/2))+int((3*a/10)):a]#20% for validation\n",
        "Y_Train=La[0:int((a/2))]#50% data samples for training \n",
        "Y_Test=La[int((a/2)):int((a/2))+int((3*a/10))]# 30% for testing\n",
        "Y_Val=La[int((a/2))+int((3*a/10)):a]#20% for validation\n",
        "\n",
        "input_unit=X_Train.shape[1]\n",
        "output_unit = 1\n",
        "hidden_unit = int(2*input_unit/3)+output_unit\n",
        "\n"
      ],
      "execution_count": null,
      "outputs": [
        {
          "output_type": "stream",
          "text": [
            "4929\n"
          ],
          "name": "stdout"
        }
      ]
    },
    {
      "cell_type": "code",
      "metadata": {
        "id": "K74WXe_ZWhSB"
      },
      "source": [
        "### Design the network with only one hidden layer ###\n",
        "\n",
        "\n",
        "model = Sequential()\n",
        "model.add(Dense(1000, activation='relu',input_shape=(input_unit,)))\n",
        "model.add(Dense(5, activation='softmax'))\n",
        "model.compile(loss='SparseCategoricalCrossentropy', optimizer='adam', metrics=['accuracy'])\n",
        "\n"
      ],
      "execution_count": null,
      "outputs": []
    },
    {
      "cell_type": "code",
      "metadata": {
        "colab": {
          "base_uri": "https://localhost:8080/"
        },
        "id": "2C0y04uRocYd",
        "outputId": "063f3ede-d30f-4136-b0e8-a93462627892"
      },
      "source": [
        "### Train the network with any optimizer ###\n",
        "\n",
        "\n",
        "history = model.fit(X_Train, Y_Train,validation_data = (X_Val,Y_Val), epochs=100, batch_size=64)\n",
        "\n"
      ],
      "execution_count": null,
      "outputs": [
        {
          "output_type": "stream",
          "text": [
            "Epoch 1/100\n",
            "39/39 [==============================] - 1s 14ms/step - loss: 31.2221 - accuracy: 0.6738 - val_loss: 5.0206 - val_accuracy: 0.9138\n",
            "Epoch 2/100\n",
            "39/39 [==============================] - 0s 3ms/step - loss: 2.3224 - accuracy: 0.9622 - val_loss: 4.4320 - val_accuracy: 0.9270\n",
            "Epoch 3/100\n",
            "39/39 [==============================] - 0s 4ms/step - loss: 0.4611 - accuracy: 0.9836 - val_loss: 5.7819 - val_accuracy: 0.9249\n",
            "Epoch 4/100\n",
            "39/39 [==============================] - 0s 3ms/step - loss: 0.4186 - accuracy: 0.9860 - val_loss: 5.3514 - val_accuracy: 0.9391\n",
            "Epoch 5/100\n",
            "39/39 [==============================] - 0s 3ms/step - loss: 0.5425 - accuracy: 0.9838 - val_loss: 4.5467 - val_accuracy: 0.9402\n",
            "Epoch 6/100\n",
            "39/39 [==============================] - 0s 3ms/step - loss: 0.3058 - accuracy: 0.9883 - val_loss: 3.8431 - val_accuracy: 0.9341\n",
            "Epoch 7/100\n",
            "39/39 [==============================] - 0s 3ms/step - loss: 0.2951 - accuracy: 0.9901 - val_loss: 4.7900 - val_accuracy: 0.9391\n",
            "Epoch 8/100\n",
            "39/39 [==============================] - 0s 4ms/step - loss: 0.1498 - accuracy: 0.9951 - val_loss: 6.3577 - val_accuracy: 0.9270\n",
            "Epoch 9/100\n",
            "39/39 [==============================] - 0s 4ms/step - loss: 0.1013 - accuracy: 0.9942 - val_loss: 5.3993 - val_accuracy: 0.9280\n",
            "Epoch 10/100\n",
            "39/39 [==============================] - 0s 3ms/step - loss: 0.1876 - accuracy: 0.9912 - val_loss: 5.4314 - val_accuracy: 0.9351\n",
            "Epoch 11/100\n",
            "39/39 [==============================] - 0s 3ms/step - loss: 0.1023 - accuracy: 0.9948 - val_loss: 5.2588 - val_accuracy: 0.9371\n",
            "Epoch 12/100\n",
            "39/39 [==============================] - 0s 4ms/step - loss: 0.1990 - accuracy: 0.9947 - val_loss: 6.6615 - val_accuracy: 0.9371\n",
            "Epoch 13/100\n",
            "39/39 [==============================] - 0s 4ms/step - loss: 0.0667 - accuracy: 0.9974 - val_loss: 4.7156 - val_accuracy: 0.9452\n",
            "Epoch 14/100\n",
            "39/39 [==============================] - 0s 3ms/step - loss: 0.2409 - accuracy: 0.9951 - val_loss: 3.9765 - val_accuracy: 0.9503\n",
            "Epoch 15/100\n",
            "39/39 [==============================] - 0s 3ms/step - loss: 0.2403 - accuracy: 0.9930 - val_loss: 4.3486 - val_accuracy: 0.9483\n",
            "Epoch 16/100\n",
            "39/39 [==============================] - 0s 4ms/step - loss: 0.0424 - accuracy: 0.9965 - val_loss: 4.6502 - val_accuracy: 0.9462\n",
            "Epoch 17/100\n",
            "39/39 [==============================] - 0s 4ms/step - loss: 0.0644 - accuracy: 0.9973 - val_loss: 4.1269 - val_accuracy: 0.9493\n",
            "Epoch 18/100\n",
            "39/39 [==============================] - 0s 4ms/step - loss: 0.1093 - accuracy: 0.9976 - val_loss: 4.2186 - val_accuracy: 0.9503\n",
            "Epoch 19/100\n",
            "39/39 [==============================] - 0s 3ms/step - loss: 0.0695 - accuracy: 0.9979 - val_loss: 6.0078 - val_accuracy: 0.9412\n",
            "Epoch 20/100\n",
            "39/39 [==============================] - 0s 4ms/step - loss: 0.1227 - accuracy: 0.9957 - val_loss: 4.5739 - val_accuracy: 0.9473\n",
            "Epoch 21/100\n",
            "39/39 [==============================] - 0s 4ms/step - loss: 0.1672 - accuracy: 0.9953 - val_loss: 4.9812 - val_accuracy: 0.9462\n",
            "Epoch 22/100\n",
            "39/39 [==============================] - 0s 3ms/step - loss: 0.2526 - accuracy: 0.9931 - val_loss: 4.5765 - val_accuracy: 0.9513\n",
            "Epoch 23/100\n",
            "39/39 [==============================] - 0s 4ms/step - loss: 0.1777 - accuracy: 0.9937 - val_loss: 4.6554 - val_accuracy: 0.9513\n",
            "Epoch 24/100\n",
            "39/39 [==============================] - 0s 3ms/step - loss: 0.3531 - accuracy: 0.9938 - val_loss: 5.6182 - val_accuracy: 0.9422\n",
            "Epoch 25/100\n",
            "39/39 [==============================] - 0s 3ms/step - loss: 0.1811 - accuracy: 0.9963 - val_loss: 4.7447 - val_accuracy: 0.9462\n",
            "Epoch 26/100\n",
            "39/39 [==============================] - 0s 3ms/step - loss: 0.0440 - accuracy: 0.9978 - val_loss: 5.2588 - val_accuracy: 0.9442\n",
            "Epoch 27/100\n",
            "39/39 [==============================] - 0s 4ms/step - loss: 0.0195 - accuracy: 0.9989 - val_loss: 5.5873 - val_accuracy: 0.9452\n",
            "Epoch 28/100\n",
            "39/39 [==============================] - 0s 3ms/step - loss: 0.0164 - accuracy: 0.9983 - val_loss: 5.1569 - val_accuracy: 0.9493\n",
            "Epoch 29/100\n",
            "39/39 [==============================] - 0s 4ms/step - loss: 0.0804 - accuracy: 0.9975 - val_loss: 4.6062 - val_accuracy: 0.9473\n",
            "Epoch 30/100\n",
            "39/39 [==============================] - 0s 3ms/step - loss: 0.1316 - accuracy: 0.9962 - val_loss: 5.6578 - val_accuracy: 0.9412\n",
            "Epoch 31/100\n",
            "39/39 [==============================] - 0s 3ms/step - loss: 0.0926 - accuracy: 0.9982 - val_loss: 7.2250 - val_accuracy: 0.9422\n",
            "Epoch 32/100\n",
            "39/39 [==============================] - 0s 3ms/step - loss: 0.1248 - accuracy: 0.9960 - val_loss: 6.8644 - val_accuracy: 0.9381\n",
            "Epoch 33/100\n",
            "39/39 [==============================] - 0s 4ms/step - loss: 0.3519 - accuracy: 0.9941 - val_loss: 5.6102 - val_accuracy: 0.9412\n",
            "Epoch 34/100\n",
            "39/39 [==============================] - 0s 3ms/step - loss: 0.1906 - accuracy: 0.9958 - val_loss: 5.4305 - val_accuracy: 0.9462\n",
            "Epoch 35/100\n",
            "39/39 [==============================] - 0s 3ms/step - loss: 0.1634 - accuracy: 0.9977 - val_loss: 5.9598 - val_accuracy: 0.9544\n",
            "Epoch 36/100\n",
            "39/39 [==============================] - 0s 3ms/step - loss: 0.0567 - accuracy: 0.9973 - val_loss: 6.1594 - val_accuracy: 0.9544\n",
            "Epoch 37/100\n",
            "39/39 [==============================] - 0s 3ms/step - loss: 0.0417 - accuracy: 0.9990 - val_loss: 5.2399 - val_accuracy: 0.9554\n",
            "Epoch 38/100\n",
            "39/39 [==============================] - 0s 3ms/step - loss: 0.1024 - accuracy: 0.9975 - val_loss: 5.7047 - val_accuracy: 0.9513\n",
            "Epoch 39/100\n",
            "39/39 [==============================] - 0s 4ms/step - loss: 0.0085 - accuracy: 0.9992 - val_loss: 5.6682 - val_accuracy: 0.9503\n",
            "Epoch 40/100\n",
            "39/39 [==============================] - 0s 3ms/step - loss: 1.8666e-04 - accuracy: 1.0000 - val_loss: 5.6879 - val_accuracy: 0.9462\n",
            "Epoch 41/100\n",
            "39/39 [==============================] - 0s 3ms/step - loss: 0.0014 - accuracy: 0.9998 - val_loss: 5.6093 - val_accuracy: 0.9523\n",
            "Epoch 42/100\n",
            "39/39 [==============================] - 0s 3ms/step - loss: 0.0648 - accuracy: 0.9978 - val_loss: 5.6569 - val_accuracy: 0.9533\n",
            "Epoch 43/100\n",
            "39/39 [==============================] - 0s 3ms/step - loss: 0.1761 - accuracy: 0.9968 - val_loss: 5.2287 - val_accuracy: 0.9533\n",
            "Epoch 44/100\n",
            "39/39 [==============================] - 0s 3ms/step - loss: 0.0331 - accuracy: 0.9992 - val_loss: 5.9401 - val_accuracy: 0.9554\n",
            "Epoch 45/100\n",
            "39/39 [==============================] - 0s 3ms/step - loss: 0.0477 - accuracy: 0.9993 - val_loss: 8.4487 - val_accuracy: 0.9442\n",
            "Epoch 46/100\n",
            "39/39 [==============================] - 0s 3ms/step - loss: 0.1914 - accuracy: 0.9957 - val_loss: 9.1923 - val_accuracy: 0.9402\n",
            "Epoch 47/100\n",
            "39/39 [==============================] - 0s 4ms/step - loss: 0.2928 - accuracy: 0.9931 - val_loss: 6.9507 - val_accuracy: 0.9544\n",
            "Epoch 48/100\n",
            "39/39 [==============================] - 0s 3ms/step - loss: 0.5445 - accuracy: 0.9949 - val_loss: 5.5931 - val_accuracy: 0.9604\n",
            "Epoch 49/100\n",
            "39/39 [==============================] - 0s 3ms/step - loss: 0.0773 - accuracy: 0.9973 - val_loss: 7.4638 - val_accuracy: 0.9554\n",
            "Epoch 50/100\n",
            "39/39 [==============================] - 0s 3ms/step - loss: 0.0275 - accuracy: 0.9986 - val_loss: 8.8899 - val_accuracy: 0.9452\n",
            "Epoch 51/100\n",
            "39/39 [==============================] - 0s 3ms/step - loss: 0.1528 - accuracy: 0.9962 - val_loss: 6.9643 - val_accuracy: 0.9493\n",
            "Epoch 52/100\n",
            "39/39 [==============================] - 0s 3ms/step - loss: 0.0550 - accuracy: 0.9972 - val_loss: 6.7137 - val_accuracy: 0.9594\n",
            "Epoch 53/100\n",
            "39/39 [==============================] - 0s 3ms/step - loss: 0.1404 - accuracy: 0.9968 - val_loss: 7.5539 - val_accuracy: 0.9544\n",
            "Epoch 54/100\n",
            "39/39 [==============================] - 0s 3ms/step - loss: 0.1129 - accuracy: 0.9971 - val_loss: 7.5765 - val_accuracy: 0.9533\n",
            "Epoch 55/100\n",
            "39/39 [==============================] - 0s 4ms/step - loss: 0.0162 - accuracy: 0.9994 - val_loss: 7.8536 - val_accuracy: 0.9523\n",
            "Epoch 56/100\n",
            "39/39 [==============================] - 0s 4ms/step - loss: 0.0077 - accuracy: 0.9992 - val_loss: 7.4803 - val_accuracy: 0.9544\n",
            "Epoch 57/100\n",
            "39/39 [==============================] - 0s 3ms/step - loss: 0.0111 - accuracy: 0.9995 - val_loss: 5.8117 - val_accuracy: 0.9574\n",
            "Epoch 58/100\n",
            "39/39 [==============================] - 0s 3ms/step - loss: 5.9707e-05 - accuracy: 1.0000 - val_loss: 5.7701 - val_accuracy: 0.9584\n",
            "Epoch 59/100\n",
            "39/39 [==============================] - 0s 3ms/step - loss: 3.6973e-05 - accuracy: 1.0000 - val_loss: 5.7695 - val_accuracy: 0.9584\n",
            "Epoch 60/100\n",
            "39/39 [==============================] - 0s 3ms/step - loss: 9.4265e-05 - accuracy: 1.0000 - val_loss: 5.7696 - val_accuracy: 0.9584\n",
            "Epoch 61/100\n",
            "39/39 [==============================] - 0s 3ms/step - loss: 1.1692e-04 - accuracy: 1.0000 - val_loss: 5.7697 - val_accuracy: 0.9584\n",
            "Epoch 62/100\n",
            "39/39 [==============================] - 0s 3ms/step - loss: 1.5183e-04 - accuracy: 1.0000 - val_loss: 5.7697 - val_accuracy: 0.9584\n",
            "Epoch 63/100\n",
            "39/39 [==============================] - 0s 4ms/step - loss: 1.3681e-04 - accuracy: 1.0000 - val_loss: 5.7698 - val_accuracy: 0.9584\n",
            "Epoch 64/100\n",
            "39/39 [==============================] - 0s 3ms/step - loss: 2.6237e-04 - accuracy: 1.0000 - val_loss: 5.7699 - val_accuracy: 0.9584\n",
            "Epoch 65/100\n",
            "39/39 [==============================] - 0s 3ms/step - loss: 2.0635e-04 - accuracy: 1.0000 - val_loss: 5.7700 - val_accuracy: 0.9584\n",
            "Epoch 66/100\n",
            "39/39 [==============================] - 0s 4ms/step - loss: 1.0686e-04 - accuracy: 1.0000 - val_loss: 5.7700 - val_accuracy: 0.9584\n",
            "Epoch 67/100\n",
            "39/39 [==============================] - 0s 3ms/step - loss: 2.5497e-04 - accuracy: 1.0000 - val_loss: 5.7701 - val_accuracy: 0.9584\n",
            "Epoch 68/100\n",
            "39/39 [==============================] - 0s 3ms/step - loss: 9.9868e-05 - accuracy: 1.0000 - val_loss: 5.7702 - val_accuracy: 0.9584\n",
            "Epoch 69/100\n",
            "39/39 [==============================] - 0s 4ms/step - loss: 2.0682e-04 - accuracy: 1.0000 - val_loss: 5.7703 - val_accuracy: 0.9584\n",
            "Epoch 70/100\n",
            "39/39 [==============================] - 0s 3ms/step - loss: 1.1598e-04 - accuracy: 1.0000 - val_loss: 5.7703 - val_accuracy: 0.9584\n",
            "Epoch 71/100\n",
            "39/39 [==============================] - 0s 3ms/step - loss: 5.0391e-04 - accuracy: 1.0000 - val_loss: 5.7704 - val_accuracy: 0.9584\n",
            "Epoch 72/100\n",
            "39/39 [==============================] - 0s 3ms/step - loss: 3.2746e-05 - accuracy: 1.0000 - val_loss: 5.7705 - val_accuracy: 0.9584\n",
            "Epoch 73/100\n",
            "39/39 [==============================] - 0s 3ms/step - loss: 1.1244e-04 - accuracy: 1.0000 - val_loss: 5.7706 - val_accuracy: 0.9584\n",
            "Epoch 74/100\n",
            "39/39 [==============================] - 0s 3ms/step - loss: 2.7639e-04 - accuracy: 1.0000 - val_loss: 5.7707 - val_accuracy: 0.9584\n",
            "Epoch 75/100\n",
            "39/39 [==============================] - 0s 4ms/step - loss: 9.1052e-05 - accuracy: 1.0000 - val_loss: 5.7707 - val_accuracy: 0.9584\n",
            "Epoch 76/100\n",
            "39/39 [==============================] - 0s 3ms/step - loss: 3.6743e-05 - accuracy: 1.0000 - val_loss: 5.7708 - val_accuracy: 0.9584\n",
            "Epoch 77/100\n",
            "39/39 [==============================] - 0s 3ms/step - loss: 6.2847e-05 - accuracy: 1.0000 - val_loss: 5.7709 - val_accuracy: 0.9584\n",
            "Epoch 78/100\n",
            "39/39 [==============================] - 0s 3ms/step - loss: 8.2185e-05 - accuracy: 1.0000 - val_loss: 5.7710 - val_accuracy: 0.9584\n",
            "Epoch 79/100\n",
            "39/39 [==============================] - 0s 3ms/step - loss: 7.3842e-05 - accuracy: 1.0000 - val_loss: 5.7710 - val_accuracy: 0.9584\n",
            "Epoch 80/100\n",
            "39/39 [==============================] - 0s 3ms/step - loss: 4.7835e-05 - accuracy: 1.0000 - val_loss: 5.7711 - val_accuracy: 0.9584\n",
            "Epoch 81/100\n",
            "39/39 [==============================] - 0s 3ms/step - loss: 1.1437e-05 - accuracy: 1.0000 - val_loss: 5.7711 - val_accuracy: 0.9584\n",
            "Epoch 82/100\n",
            "39/39 [==============================] - 0s 3ms/step - loss: 6.1972e-05 - accuracy: 1.0000 - val_loss: 5.7713 - val_accuracy: 0.9584\n",
            "Epoch 83/100\n",
            "39/39 [==============================] - 0s 3ms/step - loss: 1.5884e-04 - accuracy: 1.0000 - val_loss: 5.7714 - val_accuracy: 0.9584\n",
            "Epoch 84/100\n",
            "39/39 [==============================] - 0s 3ms/step - loss: 7.1798e-05 - accuracy: 1.0000 - val_loss: 5.7714 - val_accuracy: 0.9584\n",
            "Epoch 85/100\n",
            "39/39 [==============================] - 0s 3ms/step - loss: 4.0335e-05 - accuracy: 1.0000 - val_loss: 5.7715 - val_accuracy: 0.9584\n",
            "Epoch 86/100\n",
            "39/39 [==============================] - 0s 3ms/step - loss: 1.6845e-04 - accuracy: 1.0000 - val_loss: 5.7716 - val_accuracy: 0.9584\n",
            "Epoch 87/100\n",
            "39/39 [==============================] - 0s 3ms/step - loss: 7.9687e-05 - accuracy: 1.0000 - val_loss: 5.7717 - val_accuracy: 0.9584\n",
            "Epoch 88/100\n",
            "39/39 [==============================] - 0s 3ms/step - loss: 2.4412e-05 - accuracy: 1.0000 - val_loss: 5.7717 - val_accuracy: 0.9584\n",
            "Epoch 89/100\n",
            "39/39 [==============================] - 0s 3ms/step - loss: 4.8868e-05 - accuracy: 1.0000 - val_loss: 5.7718 - val_accuracy: 0.9584\n",
            "Epoch 90/100\n",
            "39/39 [==============================] - 0s 3ms/step - loss: 2.5504e-05 - accuracy: 1.0000 - val_loss: 5.7719 - val_accuracy: 0.9584\n",
            "Epoch 91/100\n",
            "39/39 [==============================] - 0s 3ms/step - loss: 2.7350e-05 - accuracy: 1.0000 - val_loss: 5.7719 - val_accuracy: 0.9584\n",
            "Epoch 92/100\n",
            "39/39 [==============================] - 0s 3ms/step - loss: 1.8485e-04 - accuracy: 1.0000 - val_loss: 5.7720 - val_accuracy: 0.9584\n",
            "Epoch 93/100\n",
            "39/39 [==============================] - 0s 3ms/step - loss: 1.6060e-05 - accuracy: 1.0000 - val_loss: 5.7721 - val_accuracy: 0.9584\n",
            "Epoch 94/100\n",
            "39/39 [==============================] - 0s 3ms/step - loss: 5.1495e-05 - accuracy: 1.0000 - val_loss: 5.7722 - val_accuracy: 0.9584\n",
            "Epoch 95/100\n",
            "39/39 [==============================] - 0s 3ms/step - loss: 1.2458e-04 - accuracy: 1.0000 - val_loss: 5.7722 - val_accuracy: 0.9584\n",
            "Epoch 96/100\n",
            "39/39 [==============================] - 0s 3ms/step - loss: 8.2885e-05 - accuracy: 1.0000 - val_loss: 5.7723 - val_accuracy: 0.9584\n",
            "Epoch 97/100\n",
            "39/39 [==============================] - 0s 4ms/step - loss: 4.0406e-05 - accuracy: 1.0000 - val_loss: 5.7724 - val_accuracy: 0.9584\n",
            "Epoch 98/100\n",
            "39/39 [==============================] - 0s 4ms/step - loss: 8.2033e-06 - accuracy: 1.0000 - val_loss: 5.7724 - val_accuracy: 0.9584\n",
            "Epoch 99/100\n",
            "39/39 [==============================] - 0s 3ms/step - loss: 1.9955e-04 - accuracy: 1.0000 - val_loss: 5.7725 - val_accuracy: 0.9584\n",
            "Epoch 100/100\n",
            "39/39 [==============================] - 0s 3ms/step - loss: 2.0383e-05 - accuracy: 1.0000 - val_loss: 5.7726 - val_accuracy: 0.9584\n"
          ],
          "name": "stdout"
        }
      ]
    },
    {
      "cell_type": "code",
      "metadata": {
        "colab": {
          "base_uri": "https://localhost:8080/"
        },
        "id": "J6JYFJmQo1Ef",
        "outputId": "99a58777-b3ba-412a-f8ca-e8a7fed2297e"
      },
      "source": [
        "### Get the accuracies for the test dataset and plot the confusion matrix ###\n",
        "\n",
        "y_pred = model.predict(X_Test)\n",
        "\n",
        "### Converting predictions to label\n",
        "\n",
        "pred = list()\n",
        "for i in range(len(y_pred)):\n",
        "    pred.append(np.argmax(y_pred[i]))\n",
        "from sklearn.metrics import accuracy_score\n",
        "a = accuracy_score(pred,Y_Test)\n",
        "print('Accuracy is:', a*100)\n",
        "print('Confusion Matrix:')\n",
        "print(confusion_matrix(Y_Test,pred))\n",
        "\n"
      ],
      "execution_count": null,
      "outputs": [
        {
          "output_type": "stream",
          "text": [
            "Accuracy is: 97.49830966869506\n",
            "Confusion Matrix:\n",
            "[[311   2   1   1   4]\n",
            " [  2 292   3   1   4]\n",
            " [  0   0 264   1   1]\n",
            " [  2   0   2 293   3]\n",
            " [  4   2   3   1 282]]\n"
          ],
          "name": "stdout"
        }
      ]
    },
    {
      "cell_type": "markdown",
      "metadata": {
        "id": "RBF1A8FtsS7U"
      },
      "source": [
        "**QUESTION 2**"
      ]
    },
    {
      "cell_type": "code",
      "metadata": {
        "id": "OxoNStiAsblG"
      },
      "source": [
        "import torch\n",
        "import torch.nn as nn\n",
        "import torch.nn.functional as F\n",
        "\n",
        "import torch.optim as optim\n",
        "from torch.utils import data\n",
        "import torchvision\n",
        "import torchvision.transforms as transforms"
      ],
      "execution_count": null,
      "outputs": []
    },
    {
      "cell_type": "code",
      "metadata": {
        "id": "kMtXU7Kyv0QV"
      },
      "source": [
        "\n",
        "\n",
        "\n",
        "class Net(nn.Module):\n",
        "\n",
        "    def __init__(self):\n",
        "        super(Net, self).__init__()\n",
        "        \n",
        "        self.out = nn.Linear(1,1)  # 5*5 from image dimension\n",
        "        \n",
        "\n",
        "    def forward(self, x):\n",
        "        \n",
        "        x = self.out(x)\n",
        "        \n",
        "        return x\n",
        "\n",
        "net = Net()\n"
      ],
      "execution_count": null,
      "outputs": []
    },
    {
      "cell_type": "code",
      "metadata": {
        "id": "Vm2nbL4D8zLW"
      },
      "source": [
        "### Define the Dataset and load the dataset ###\n",
        "\n",
        "\n",
        "\n",
        "celsius_q    = np.array([-40, -10,  0,  8, 15, 22,  38])\n",
        "fahrenheit_a = np.array([-40,  14, 32, 46, 59, 72, 100])\n",
        "celsius_q    = torch.from_numpy(celsius_q.astype(np.float32)).view(-1,1)\n",
        "fahrenheit_a = torch.from_numpy(fahrenheit_a.astype(np.float32)).view(-1,1)\n",
        "cel          = celsius_q\n",
        "farh         = fahrenheit_a\n",
        "\n"
      ],
      "execution_count": null,
      "outputs": []
    },
    {
      "cell_type": "code",
      "metadata": {
        "id": "su__zOSTPZWK"
      },
      "source": [
        "### Define the Loss function and the optimizer ###\n",
        "\n",
        "\n",
        "model = Net()\n",
        "error = nn.MSELoss()\n",
        "learning_rate = 0.001\n",
        "optimizer = optim.SGD(model.parameters(), lr=learning_rate)\n",
        "\n"
      ],
      "execution_count": null,
      "outputs": []
    },
    {
      "cell_type": "code",
      "metadata": {
        "colab": {
          "base_uri": "https://localhost:8080/"
        },
        "id": "zyaJPcg3Q0h6",
        "outputId": "422aa7ba-e0aa-491a-bb3d-3ad201d289a0"
      },
      "source": [
        "### For specified number of iterations train the network and print the loss for each iteration ###\n",
        "\n",
        "num_epochs = 3000;\n",
        "losses = [];\n",
        "accuracy_list = [];\n",
        "for epoch in range(num_epochs):\n",
        "  \n",
        "    optimizer.zero_grad()\n",
        "    outputs = model(cel)\n",
        "    loss = error(outputs, farh)\n",
        "    loss.backward()\n",
        "    optimizer.step()\n",
        "\n",
        "    losses.append(loss.data);\n",
        "        \n",
        "    if epoch%100==0:\n",
        "      print ('Epoch : %d/%d,   Loss: %.4f '\n",
        "                   %(epoch, num_epochs, loss.data))\n",
        "      \n"
      ],
      "execution_count": null,
      "outputs": [
        {
          "output_type": "stream",
          "text": [
            "Epoch : 0/3000,   Loss: 5030.2026 \n",
            "Epoch : 100/3000,   Loss: 631.4553 \n",
            "Epoch : 200/3000,   Loss: 429.9282 \n",
            "Epoch : 300/3000,   Loss: 292.7245 \n",
            "Epoch : 400/3000,   Loss: 199.3133 \n",
            "Epoch : 500/3000,   Loss: 135.7171 \n",
            "Epoch : 600/3000,   Loss: 92.4193 \n",
            "Epoch : 700/3000,   Loss: 62.9411 \n",
            "Epoch : 800/3000,   Loss: 42.8718 \n",
            "Epoch : 900/3000,   Loss: 29.2082 \n",
            "Epoch : 1000/3000,   Loss: 19.9057 \n",
            "Epoch : 1100/3000,   Loss: 13.5724 \n",
            "Epoch : 1200/3000,   Loss: 9.2605 \n",
            "Epoch : 1300/3000,   Loss: 6.3249 \n",
            "Epoch : 1400/3000,   Loss: 4.3262 \n",
            "Epoch : 1500/3000,   Loss: 2.9655 \n",
            "Epoch : 1600/3000,   Loss: 2.0391 \n",
            "Epoch : 1700/3000,   Loss: 1.4084 \n",
            "Epoch : 1800/3000,   Loss: 0.9790 \n",
            "Epoch : 1900/3000,   Loss: 0.6866 \n",
            "Epoch : 2000/3000,   Loss: 0.4876 \n",
            "Epoch : 2100/3000,   Loss: 0.3521 \n",
            "Epoch : 2200/3000,   Loss: 0.2598 \n",
            "Epoch : 2300/3000,   Loss: 0.1970 \n",
            "Epoch : 2400/3000,   Loss: 0.1543 \n",
            "Epoch : 2500/3000,   Loss: 0.1251 \n",
            "Epoch : 2600/3000,   Loss: 0.1053 \n",
            "Epoch : 2700/3000,   Loss: 0.0918 \n",
            "Epoch : 2800/3000,   Loss: 0.0826 \n",
            "Epoch : 2900/3000,   Loss: 0.0764 \n"
          ],
          "name": "stdout"
        }
      ]
    },
    {
      "cell_type": "code",
      "metadata": {
        "colab": {
          "base_uri": "https://localhost:8080/"
        },
        "id": "3abv6_hfRcyL",
        "outputId": "65f81f89-1065-4382-bfe6-830340487539"
      },
      "source": [
        "#### Generate random Test sample and Test it with the trained network and report the error ###\n",
        "\n",
        "\n",
        "celsius_t=np.array([0, 8, 15, 22, 38])\n",
        "cel_t    = torch.from_numpy(celsius_t.astype(np.float32)).view(-1,1)\n",
        "far=np.array([32, 46, 59, 72, 100])\n",
        "far_t    = torch.from_numpy(far.astype(np.float32)).view(-1,1)\n",
        "\n",
        "outputs = model(cel_t)\n",
        "loss = error(outputs, far_t)\n",
        "loss=loss.detach().numpy()\n",
        "print('Test test set loss of the model is: %.4f ' % (loss))\n"
      ],
      "execution_count": null,
      "outputs": [
        {
          "output_type": "stream",
          "text": [
            "Test test set loss of the model is: 0.0956 \n"
          ],
          "name": "stdout"
        }
      ]
    },
    {
      "cell_type": "markdown",
      "metadata": {
        "id": "DlafyV9ywOfU"
      },
      "source": [
        "**QUESTION 3**"
      ]
    },
    {
      "cell_type": "code",
      "metadata": {
        "id": "BVGsM6dvdcHE"
      },
      "source": [
        "\n",
        "\n",
        "import torch\n",
        "import torch.nn as nn\n",
        "from torch.autograd import Variable\n",
        "\n",
        "import torchvision\n",
        "import torchvision.transforms as transforms\n",
        "from torch.utils.data import  DataLoader\n",
        "\n",
        "device = torch.device(\"cuda:0\" if torch.cuda.is_available() else \"cpu\")\n"
      ],
      "execution_count": null,
      "outputs": []
    },
    {
      "cell_type": "code",
      "metadata": {
        "id": "jVHhN63epMtn",
        "colab": {
          "base_uri": "https://localhost:8080/",
          "height": 587,
          "referenced_widgets": [
            "f53eaeb3a4de409b96109e6970cffc16",
            "4f5145abe0594f9b93ffc1342de016cb",
            "155deb823d9c4bb49c8b9d512c8b8da8",
            "26f393e868704868a47722bb83a34955",
            "7c844fc0e06e453f99f69309f9e67c7c",
            "1f5a5eaff2884033893adab50005c9e1",
            "4d47186dba3747d5a125941cf8ca40ca",
            "5c8250612c60400aaad3646d72c00e3d",
            "5d3e5ab6404e40e58694b645ebfbc7ea",
            "1cd9075af4a64cb2b0d19a028aa5bb93",
            "5b5c399422424ec68a59d2e807dea4c7",
            "7184a7a306714e1d93113b01437495e9",
            "b0b1b2e44c39484ca2699a96724a796c",
            "e5511b6dc79d4789a81afc3a48c363e5",
            "8b3e316cf341485eb8ae15836e7af5b6",
            "37f9794b88ad4cf5a28034359008e89e",
            "9d1f1f925dea4954ba7980c7a1de89f7",
            "9201790077294fba829f9f0a7c50f0ed",
            "95e645e0d82541ad8f35aa5ae31ab2cc",
            "543af778f317420c86aa06d7c42876cd",
            "806c5a0015644813998136187bbf5633",
            "19b0ac28014b4a74ac9aea129c1d4560",
            "0a275bb389c649cdb28c3895912385bf",
            "42d7a6dbfd26477ca5fe73deee2a7fea",
            "93b876e4f15e41d7ada1a1506be186a9",
            "abf07e6b3a744620b0f34e55cc274ff2",
            "a51194a498124da2a6ca75d7fccb8ef2",
            "b4eb6bc946c744b2b85727b6f5a7b95c",
            "3a34de22363d45f18dae327a49c74428",
            "39fba85bebe64ebbb8e3a39b60534cd0",
            "b9f14c454872470db62a0a65c159d51a",
            "6829153168d3499c985e35d63b9bbc6e"
          ]
        },
        "outputId": "bcc6aee3-4f26-42dd-f219-031d194145f9"
      },
      "source": [
        "#### Download the dataset ####\n",
        "\n",
        "##Your Code starts here##\n",
        "train_set = torchvision.datasets.FashionMNIST(root = './data/FashionMNIST',train = True,download = True,transform = transforms.Compose([transforms.ToTensor()]))\n",
        "test_set = torchvision.datasets.FashionMNIST(root = './data/FashionMNIST',train = False,download = True,transform = transforms.Compose([transforms.ToTensor()]))\n",
        "\n",
        "##Your Code ends here##"
      ],
      "execution_count": null,
      "outputs": [
        {
          "output_type": "stream",
          "text": [
            "Downloading http://fashion-mnist.s3-website.eu-central-1.amazonaws.com/train-images-idx3-ubyte.gz\n",
            "Downloading http://fashion-mnist.s3-website.eu-central-1.amazonaws.com/train-images-idx3-ubyte.gz to ./data/FashionMNIST/FashionMNIST/raw/train-images-idx3-ubyte.gz\n"
          ],
          "name": "stdout"
        },
        {
          "output_type": "display_data",
          "data": {
            "application/vnd.jupyter.widget-view+json": {
              "model_id": "f53eaeb3a4de409b96109e6970cffc16",
              "version_minor": 0,
              "version_major": 2
            },
            "text/plain": [
              "HBox(children=(FloatProgress(value=0.0, max=26421880.0), HTML(value='')))"
            ]
          },
          "metadata": {
            "tags": []
          }
        },
        {
          "output_type": "stream",
          "text": [
            "\n",
            "Extracting ./data/FashionMNIST/FashionMNIST/raw/train-images-idx3-ubyte.gz to ./data/FashionMNIST/FashionMNIST/raw\n",
            "\n",
            "Downloading http://fashion-mnist.s3-website.eu-central-1.amazonaws.com/train-labels-idx1-ubyte.gz\n",
            "Downloading http://fashion-mnist.s3-website.eu-central-1.amazonaws.com/train-labels-idx1-ubyte.gz to ./data/FashionMNIST/FashionMNIST/raw/train-labels-idx1-ubyte.gz\n"
          ],
          "name": "stdout"
        },
        {
          "output_type": "display_data",
          "data": {
            "application/vnd.jupyter.widget-view+json": {
              "model_id": "5d3e5ab6404e40e58694b645ebfbc7ea",
              "version_minor": 0,
              "version_major": 2
            },
            "text/plain": [
              "HBox(children=(FloatProgress(value=0.0, max=29515.0), HTML(value='')))"
            ]
          },
          "metadata": {
            "tags": []
          }
        },
        {
          "output_type": "stream",
          "text": [
            "\n",
            "Extracting ./data/FashionMNIST/FashionMNIST/raw/train-labels-idx1-ubyte.gz to ./data/FashionMNIST/FashionMNIST/raw\n",
            "\n",
            "Downloading http://fashion-mnist.s3-website.eu-central-1.amazonaws.com/t10k-images-idx3-ubyte.gz\n",
            "Downloading http://fashion-mnist.s3-website.eu-central-1.amazonaws.com/t10k-images-idx3-ubyte.gz to ./data/FashionMNIST/FashionMNIST/raw/t10k-images-idx3-ubyte.gz\n"
          ],
          "name": "stdout"
        },
        {
          "output_type": "display_data",
          "data": {
            "application/vnd.jupyter.widget-view+json": {
              "model_id": "9d1f1f925dea4954ba7980c7a1de89f7",
              "version_minor": 0,
              "version_major": 2
            },
            "text/plain": [
              "HBox(children=(FloatProgress(value=0.0, max=4422102.0), HTML(value='')))"
            ]
          },
          "metadata": {
            "tags": []
          }
        },
        {
          "output_type": "stream",
          "text": [
            "\n",
            "Extracting ./data/FashionMNIST/FashionMNIST/raw/t10k-images-idx3-ubyte.gz to ./data/FashionMNIST/FashionMNIST/raw\n",
            "\n",
            "Downloading http://fashion-mnist.s3-website.eu-central-1.amazonaws.com/t10k-labels-idx1-ubyte.gz\n",
            "Downloading http://fashion-mnist.s3-website.eu-central-1.amazonaws.com/t10k-labels-idx1-ubyte.gz to ./data/FashionMNIST/FashionMNIST/raw/t10k-labels-idx1-ubyte.gz\n"
          ],
          "name": "stdout"
        },
        {
          "output_type": "display_data",
          "data": {
            "application/vnd.jupyter.widget-view+json": {
              "model_id": "93b876e4f15e41d7ada1a1506be186a9",
              "version_minor": 0,
              "version_major": 2
            },
            "text/plain": [
              "HBox(children=(FloatProgress(value=0.0, max=5148.0), HTML(value='')))"
            ]
          },
          "metadata": {
            "tags": []
          }
        },
        {
          "output_type": "stream",
          "text": [
            "\n",
            "Extracting ./data/FashionMNIST/FashionMNIST/raw/t10k-labels-idx1-ubyte.gz to ./data/FashionMNIST/FashionMNIST/raw\n",
            "\n",
            "Processing...\n",
            "Done!\n"
          ],
          "name": "stdout"
        },
        {
          "output_type": "stream",
          "text": [
            "/usr/local/lib/python3.7/dist-packages/torchvision/datasets/mnist.py:502: UserWarning: The given NumPy array is not writeable, and PyTorch does not support non-writeable tensors. This means you can write to the underlying (supposedly non-writeable) NumPy array using the tensor. You may want to copy the array to protect its data or make it writeable before converting it to a tensor. This type of warning will be suppressed for the rest of this program. (Triggered internally at  /pytorch/torch/csrc/utils/tensor_numpy.cpp:143.)\n",
            "  return torch.from_numpy(parsed.astype(m[2], copy=False)).view(*s)\n"
          ],
          "name": "stderr"
        }
      ]
    },
    {
      "cell_type": "code",
      "metadata": {
        "id": "egPa2_vK4jT2"
      },
      "source": [
        "### Load the dataset by giving it to the dataloader ###\n",
        "\n",
        "\n",
        "train_loader = DataLoader(train_set, batch_size=100)\n",
        "test_loader = DataLoader(train_set, batch_size=100)\n"
      ],
      "execution_count": null,
      "outputs": []
    },
    {
      "cell_type": "code",
      "metadata": {
        "id": "61XNPK5eeMVq"
      },
      "source": [
        "### Define the Network ###\n",
        "class Network(nn.Module):\n",
        "    \n",
        "    def __init__(self):\n",
        "        super(Network, self).__init__()\n",
        "        \n",
        "        self.layer1 = nn.Sequential(\n",
        "            nn.Conv2d(in_channels=1, out_channels=32, kernel_size=3, padding=1),\n",
        "            nn.BatchNorm2d(32),\n",
        "            nn.ReLU(),\n",
        "            nn.MaxPool2d(kernel_size=2, stride=2)\n",
        "        )\n",
        "        \n",
        "        self.layer2 = nn.Sequential(\n",
        "            nn.Conv2d(in_channels=32, out_channels=64, kernel_size=3),\n",
        "            nn.BatchNorm2d(64),\n",
        "            nn.ReLU(),\n",
        "            nn.MaxPool2d(2)\n",
        "        )\n",
        "        \n",
        "        self.fc1 = nn.Linear(in_features=64*6*6, out_features=600)\n",
        "        self.drop = nn.Dropout2d(0.25)\n",
        "        self.fc2 = nn.Linear(in_features=600, out_features=120)\n",
        "        self.fc3 = nn.Linear(in_features=120, out_features=10)\n",
        "        \n",
        "    def forward(self, x):\n",
        "        out = self.layer1(x)\n",
        "        out = self.layer2(out)\n",
        "        out = out.view(out.size(0), -1)\n",
        "        out = self.fc1(out)\n",
        "        out = self.drop(out)\n",
        "        out = self.fc2(out)\n",
        "        out = self.fc3(out)\n",
        "        \n",
        "        return out\n",
        "\n"
      ],
      "execution_count": null,
      "outputs": []
    },
    {
      "cell_type": "code",
      "metadata": {
        "id": "ednzyFhseSQ5"
      },
      "source": [
        "### Define the Loss function and the optimizer ###\n",
        "\n",
        "model = Network()\n",
        "model.to(device)\n",
        "error = nn.CrossEntropyLoss()\n",
        "learning_rate = 0.001\n",
        "optimizer = torch.optim.Adam(model.parameters(), lr=learning_rate)\n",
        "\n"
      ],
      "execution_count": null,
      "outputs": []
    },
    {
      "cell_type": "code",
      "metadata": {
        "colab": {
          "base_uri": "https://localhost:8080/"
        },
        "id": "DuhsP6nNtV21",
        "outputId": "329fcaf2-e3ef-475a-abb5-cba84183d8ce"
      },
      "source": [
        "### For specified number of epocs train the network and print the loss for each epoc ###\n",
        "\n",
        "num_epochs = 5;\n",
        "batch_size = 100;\n",
        "\n",
        "losses = [];\n",
        "accuracy_list = [];\n",
        "for epoch in range(num_epochs):\n",
        "    for i, (images, labels) in enumerate(train_loader):\n",
        "        images = Variable(images.float())\n",
        "        labels = Variable(labels)\n",
        "        \n",
        "      \n",
        "        optimizer.zero_grad()\n",
        "        outputs = model(images)\n",
        "        loss = error(outputs, labels)\n",
        "        loss.backward()\n",
        "        optimizer.step()\n",
        "\n",
        "      \n",
        "        \n",
        "        losses.append(loss.data);\n",
        "        \n",
        "        if (i+1) % 100 == 0:\n",
        "            print ('Epoch : %d/%d, Iter : %d/%d,  Loss: %.4f '\n",
        "                   %(epoch+1, num_epochs, i+1, len(train_set)//batch_size, loss.data))\n",
        "            \n"
      ],
      "execution_count": null,
      "outputs": [
        {
          "output_type": "stream",
          "text": [
            "Epoch : 1/5, Iter : 100/600,  Loss: 0.4447 \n",
            "Epoch : 1/5, Iter : 200/600,  Loss: 0.4475 \n",
            "Epoch : 1/5, Iter : 300/600,  Loss: 0.3850 \n",
            "Epoch : 1/5, Iter : 400/600,  Loss: 0.4677 \n",
            "Epoch : 1/5, Iter : 500/600,  Loss: 0.4912 \n",
            "Epoch : 1/5, Iter : 600/600,  Loss: 0.2991 \n",
            "Epoch : 2/5, Iter : 100/600,  Loss: 0.3000 \n",
            "Epoch : 2/5, Iter : 200/600,  Loss: 0.3749 \n",
            "Epoch : 2/5, Iter : 300/600,  Loss: 0.3761 \n",
            "Epoch : 2/5, Iter : 400/600,  Loss: 0.3042 \n",
            "Epoch : 2/5, Iter : 500/600,  Loss: 0.4373 \n",
            "Epoch : 2/5, Iter : 600/600,  Loss: 0.1967 \n",
            "Epoch : 3/5, Iter : 100/600,  Loss: 0.2279 \n",
            "Epoch : 3/5, Iter : 200/600,  Loss: 0.2655 \n",
            "Epoch : 3/5, Iter : 300/600,  Loss: 0.3314 \n",
            "Epoch : 3/5, Iter : 400/600,  Loss: 0.2792 \n",
            "Epoch : 3/5, Iter : 500/600,  Loss: 0.3383 \n",
            "Epoch : 3/5, Iter : 600/600,  Loss: 0.1806 \n",
            "Epoch : 4/5, Iter : 100/600,  Loss: 0.1703 \n",
            "Epoch : 4/5, Iter : 200/600,  Loss: 0.1936 \n",
            "Epoch : 4/5, Iter : 300/600,  Loss: 0.2956 \n",
            "Epoch : 4/5, Iter : 400/600,  Loss: 0.3159 \n",
            "Epoch : 4/5, Iter : 500/600,  Loss: 0.3507 \n",
            "Epoch : 4/5, Iter : 600/600,  Loss: 0.1873 \n",
            "Epoch : 5/5, Iter : 100/600,  Loss: 0.1541 \n",
            "Epoch : 5/5, Iter : 200/600,  Loss: 0.2089 \n",
            "Epoch : 5/5, Iter : 300/600,  Loss: 0.1779 \n",
            "Epoch : 5/5, Iter : 400/600,  Loss: 0.3041 \n",
            "Epoch : 5/5, Iter : 500/600,  Loss: 0.3243 \n",
            "Epoch : 5/5, Iter : 600/600,  Loss: 0.1939 \n"
          ],
          "name": "stdout"
        }
      ]
    },
    {
      "cell_type": "code",
      "metadata": {
        "colab": {
          "base_uri": "https://localhost:8080/"
        },
        "id": "UZ_v6USG0jQS",
        "outputId": "141fa147-500d-45a2-b2a6-5120cc04d051"
      },
      "source": [
        "### Test the data with the remaining 30% data left out and print the accuracy ###\n",
        "correct = 0\n",
        "total = 0\n",
        "for images, labels in test_loader:\n",
        "    images = Variable(images.float())\n",
        "    outputs = model(images)\n",
        "    _, predicted = torch.max(outputs.data, 1)\n",
        "    total += labels.size(0)\n",
        "    correct += (predicted == labels).sum()\n",
        "print('Test Accuracy of the model on the 10000 test images: %.4f %%' % (100 * correct / total))\n",
        "\n"
      ],
      "execution_count": null,
      "outputs": [
        {
          "output_type": "stream",
          "text": [
            "Test Accuracy of the model on the 10000 test images: 93.1683 %\n"
          ],
          "name": "stdout"
        }
      ]
    }
  ]
}